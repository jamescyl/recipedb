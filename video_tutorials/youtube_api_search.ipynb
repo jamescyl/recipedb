{
  "nbformat": 4,
  "nbformat_minor": 0,
  "metadata": {
    "colab": {
      "provenance": [],
      "toc_visible": true,
      "authorship_tag": "ABX9TyM+4nWen3y/rAkWmO3BMGGx"
    },
    "kernelspec": {
      "name": "python3",
      "display_name": "Python 3"
    },
    "language_info": {
      "name": "python"
    }
  },
  "cells": [
    {
      "cell_type": "markdown",
      "source": [
        "# Setup YouTube Data API Key\n",
        "https://developers.google.com/youtube/v3/getting-started  \n",
        "Get your key and enter it into Colab's Secrets store."
      ],
      "metadata": {
        "id": "QWj_GHENzoYG"
      }
    },
    {
      "cell_type": "code",
      "execution_count": 4,
      "metadata": {
        "id": "WcprHZM5zb5o"
      },
      "outputs": [],
      "source": [
        "from google.colab import userdata\n",
        "YOUTUBE_DATA_API_KEY = userdata.get('YOUTUBE_DATA_API_KEY')"
      ]
    },
    {
      "cell_type": "code",
      "source": [
        "# Colab already has google libraries installed\n",
        "# Reference: https://developers.google.com/youtube/v3/quickstart/python\n",
        "# %pip install --upgrade google-api-python-client\n",
        "# %pip install --upgrade google-auth-oauthlib google-auth-httplib2"
      ],
      "metadata": {
        "id": "5Hct39Q71-lp"
      },
      "execution_count": 5,
      "outputs": []
    },
    {
      "cell_type": "code",
      "source": [
        "# YouTube Data API\n",
        "import googleapiclient.discovery\n",
        "\n",
        "# For displaying videos in Colab\n",
        "from IPython.display import YouTubeVideo"
      ],
      "metadata": {
        "id": "N6oSwVoV2LYk"
      },
      "execution_count": 6,
      "outputs": []
    },
    {
      "cell_type": "markdown",
      "source": [
        "# Functions to Search YouTube"
      ],
      "metadata": {
        "id": "lkJISnpH_3sc"
      }
    },
    {
      "cell_type": "code",
      "source": [
        "youtube = googleapiclient.discovery.build(serviceName='youtube', version='v3', developerKey=YOUTUBE_DATA_API_KEY)\n",
        "\n",
        "def search_yt(query, max_results=5, page_token=None):\n",
        "\n",
        "    # Reference: https://developers.google.com/youtube/v3/docs/search/list\n",
        "    # Reference: https://developers.google.com/youtube/v3/guides/implementation/pagination\n",
        "    request = youtube.search().list(\n",
        "        part=\"snippet\", # search by keyword\n",
        "        maxResults=max_results,\n",
        "        pageToken=page_token, # optional, for going to next/prev result page\n",
        "        q=query,\n",
        "        videoCaption='closedCaption', # only include videos with captions\n",
        "        type='video',   # only include videos, not playlists/channels\n",
        "    )\n",
        "    response = request.execute()\n",
        "    search_response = Search_Response(response)\n",
        "    return search_response\n",
        "\n",
        "# Display YouTube search results\n",
        "def display_yt_results(search_response):\n",
        "  for search_result in search_response.search_results:\n",
        "      print(f'Video ID: {search_result.video_id}')\n",
        "      print(f'Title: {search_result.title}')\n",
        "      youtube_video = YouTubeVideo(search_result.video_id)\n",
        "      display(youtube_video)\n",
        "      print()"
      ],
      "metadata": {
        "id": "mhSjmbXe2eOs"
      },
      "execution_count": 16,
      "outputs": []
    },
    {
      "cell_type": "markdown",
      "source": [
        "# Search Response / Results Classes\n",
        "Classes to extract data from JSON objects."
      ],
      "metadata": {
        "id": "XQwPPi4gCz24"
      }
    },
    {
      "cell_type": "code",
      "source": [
        "'''\n",
        "Search Response JSON\n",
        "https://developers.google.com/youtube/v3/docs/videos/list#response\n",
        "{\n",
        "    \"kind\": \"youtube#searchListResponse\",\n",
        "    \"etag\": etag,\n",
        "    \"nextPageToken\": string,\n",
        "    \"prevPageToken\": string,\n",
        "    \"regionCode\": string,\n",
        "    \"pageInfo\": {\n",
        "        \"totalResults\": integer,\n",
        "        \"resultsPerPage\": integer\n",
        "    },\n",
        "    \"items\": [\n",
        "        search Resource\n",
        "    ]\n",
        "}\n",
        "'''\n",
        "class Search_Response:\n",
        "    def __init__(self, search_response) -> None:\n",
        "        self.prev_page_token = search_response.get('prevPageToken')\n",
        "        self.next_page_token = search_response.get('nextPageToken')\n",
        "\n",
        "        # items element contain list of videos\n",
        "        items = search_response.get('items')\n",
        "\n",
        "        self.search_results = []\n",
        "        for item in items:\n",
        "            search_result = Search_Result(item)\n",
        "            self.search_results.append(search_result)\n",
        "\n",
        "'''\n",
        "Search Results JSON\n",
        "https://developers.google.com/youtube/v3/docs/search#resource\n",
        "{\n",
        "    \"kind\": \"youtube#searchResult\",\n",
        "    \"etag\": etag,\n",
        "    \"id\": {\n",
        "        \"kind\": string,\n",
        "        \"videoId\": string,\n",
        "        \"channelId\": string,\n",
        "        \"playlistId\": string\n",
        "    },\n",
        "    \"snippet\": {\n",
        "        \"publishedAt\": datetime,\n",
        "        \"channelId\": string,\n",
        "        \"title\": string,\n",
        "        \"description\": string,\n",
        "        \"thumbnails\": {\n",
        "          (key): {\n",
        "              \"url\": string,\n",
        "              \"width\": unsigned integer,\n",
        "              \"height\": unsigned integer\n",
        "          }\n",
        "        },\n",
        "        \"channelTitle\": string,\n",
        "        \"liveBroadcastContent\": string\n",
        "    }\n",
        "}\n",
        "'''\n",
        "class Search_Result:\n",
        "    def __init__(self, search_result) -> None:\n",
        "        self.video_id=     search_result['id']['videoId']\n",
        "        self.title=        search_result['snippet']['title']\n",
        "        self.description=  search_result['snippet']['description']\n",
        "        self.thumbnails=   search_result['snippet']['thumbnails']['default']['url']\n"
      ],
      "metadata": {
        "id": "Rz27A5_V49-s"
      },
      "execution_count": 8,
      "outputs": []
    },
    {
      "cell_type": "markdown",
      "source": [
        "# Search YouTube and Display Results"
      ],
      "metadata": {
        "id": "rYYhc64A-Nh0"
      }
    },
    {
      "cell_type": "code",
      "source": [
        "# Search YouTube and display results\n",
        "search_response = search_yt('egg recipes')\n",
        "display_yt_results(search_response)"
      ],
      "metadata": {
        "id": "f3fPSONM9G9j"
      },
      "execution_count": null,
      "outputs": []
    },
    {
      "cell_type": "code",
      "source": [
        "# Go to next page\n",
        "search_response = search_yt('egg recipes', page_token=search_response.next_page_token)\n",
        "display_yt_results(search_response)"
      ],
      "metadata": {
        "colab": {
          "base_uri": "https://localhost:8080/",
          "height": 373
        },
        "id": "VlDHun9r9O22",
        "outputId": "a0af615f-271b-4046-a4d1-49163a163aab"
      },
      "execution_count": 15,
      "outputs": [
        {
          "output_type": "stream",
          "name": "stdout",
          "text": [
            "Video ID: 9CneHYZEYlg\n",
            "Title: Egg toast | Egg sandwich | Egg cheese sandwich | MOST DELICIOUS + EASY breakfast recipe!!\n"
          ]
        },
        {
          "output_type": "display_data",
          "data": {
            "text/plain": [
              "<IPython.lib.display.YouTubeVideo at 0x7c715910a560>"
            ],
            "text/html": [
              "\n",
              "        <iframe\n",
              "            width=\"400\"\n",
              "            height=\"300\"\n",
              "            src=\"https://www.youtube.com/embed/9CneHYZEYlg\"\n",
              "            frameborder=\"0\"\n",
              "            allowfullscreen\n",
              "            \n",
              "        ></iframe>\n",
              "        "
            ],
            "image/jpeg": "[encoded data removed]"
          },
          "metadata": {}
        },
        {
          "output_type": "stream",
          "name": "stdout",
          "text": [
            "\n"
          ]
        }
      ]
    }
  ]
}