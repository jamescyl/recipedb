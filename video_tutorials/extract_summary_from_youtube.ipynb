{
  "nbformat": 4,
  "nbformat_minor": 0,
  "metadata": {
    "colab": {
      "provenance": [],
      "toc_visible": true,
      "authorship_tag": "ABX9TyPlkFAg+kBx+GF/HCA1YJK4"
    },
    "kernelspec": {
      "name": "python3",
      "display_name": "Python 3"
    },
    "language_info": {
      "name": "python"
    }
  },
  "cells": [
    {
      "cell_type": "markdown",
      "source": [
        "# Setup\n",
        "YouTube Data API key  \n",
        "https://developers.google.com/youtube/v3/getting-started  \n",
        "\n",
        "Gemini Pro API Key  \n",
        "https://ai.google.dev/pricing  \n",
        "https://makersuite.google.com/app/apikey\n",
        "\n",
        "Put keys into Colab's Secrets store."
      ],
      "metadata": {
        "id": "QWj_GHENzoYG"
      }
    },
    {
      "cell_type": "code",
      "execution_count": null,
      "metadata": {
        "id": "WcprHZM5zb5o"
      },
      "outputs": [],
      "source": [
        "from google.colab import userdata\n",
        "YOUTUBE_DATA_API_KEY = userdata.get('YOUTUBE_DATA_API_KEY')\n",
        "GEMINI_API_KEY = userdata.get('GEMINI_API_KEY')"
      ]
    },
    {
      "cell_type": "code",
      "source": [
        "# Colab already has google libraries installed\n",
        "# Reference: https://developers.google.com/youtube/v3/quickstart/python\n",
        "# !pip install --upgrade google-api-python-client\n",
        "# !pip install --upgrade google-auth-oauthlib google-auth-httplib2\n",
        "\n",
        "!pip install youtube-transcript-api\n",
        "\n",
        "# Colab already has Gemini libraries installed\n",
        "# Reference: https://ai.google.dev/tutorials/python_quickstart?hl=en\n",
        "# !pip install -q -U google-generativeai"
      ],
      "metadata": {
        "id": "5Hct39Q71-lp",
        "colab": {
          "base_uri": "https://localhost:8080/"
        },
        "outputId": "d16c9d57-f024-4898-cecf-e4a18fcf9d6f"
      },
      "execution_count": null,
      "outputs": [
        {
          "output_type": "stream",
          "name": "stdout",
          "text": [
            "Collecting youtube-transcript-api\n",
            "  Downloading youtube_transcript_api-0.6.2-py3-none-any.whl (24 kB)\n",
            "Requirement already satisfied: requests in /usr/local/lib/python3.10/dist-packages (from youtube-transcript-api) (2.31.0)\n",
            "Requirement already satisfied: charset-normalizer<4,>=2 in /usr/local/lib/python3.10/dist-packages (from requests->youtube-transcript-api) (3.3.2)\n",
            "Requirement already satisfied: idna<4,>=2.5 in /usr/local/lib/python3.10/dist-packages (from requests->youtube-transcript-api) (3.6)\n",
            "Requirement already satisfied: urllib3<3,>=1.21.1 in /usr/local/lib/python3.10/dist-packages (from requests->youtube-transcript-api) (2.0.7)\n",
            "Requirement already satisfied: certifi>=2017.4.17 in /usr/local/lib/python3.10/dist-packages (from requests->youtube-transcript-api) (2024.2.2)\n",
            "Installing collected packages: youtube-transcript-api\n",
            "Successfully installed youtube-transcript-api-0.6.2\n"
          ]
        }
      ]
    },
    {
      "cell_type": "code",
      "source": [
        "# YouTube Data API\n",
        "import googleapiclient.discovery\n",
        "\n",
        "# For displaying videos in Colab\n",
        "from IPython.display import YouTubeVideo\n",
        "\n",
        "# YT Transcripts\n",
        "from youtube_transcript_api import YouTubeTranscriptApi\n",
        "from youtube_transcript_api.formatters import TextFormatter\n",
        "\n",
        "# Gemini API\n",
        "import google.generativeai as genai\n"
      ],
      "metadata": {
        "id": "N6oSwVoV2LYk"
      },
      "execution_count": null,
      "outputs": []
    },
    {
      "cell_type": "markdown",
      "source": [
        "# Functions to Search YouTube"
      ],
      "metadata": {
        "id": "lkJISnpH_3sc"
      }
    },
    {
      "cell_type": "code",
      "source": [
        "youtube = googleapiclient.discovery.build(serviceName='youtube', version='v3', developerKey=YOUTUBE_DATA_API_KEY)\n",
        "\n",
        "genai.configure(api_key=GEMINI_API_KEY)\n",
        "genai_model = genai.GenerativeModel('gemini-pro')\n",
        "\n",
        "def search_yt(query, max_results=5, page_token=None):\n",
        "\n",
        "    # Reference: https://developers.google.com/youtube/v3/docs/search/list\n",
        "    # Reference: https://developers.google.com/youtube/v3/guides/implementation/pagination\n",
        "    request = youtube.search().list(\n",
        "        part=\"snippet\", # search by keyword\n",
        "        maxResults=max_results,\n",
        "        pageToken=page_token, # optional, for going to next/prev result page\n",
        "        q=query,\n",
        "        videoCaption='closedCaption', # only include videos with captions\n",
        "        type='video',   # only include videos, not playlists/channels\n",
        "    )\n",
        "    response = request.execute()\n",
        "    search_response = Search_Response(response)\n",
        "    return search_response\n",
        "\n",
        "# Display YouTube search results\n",
        "def display_yt_results(search_response, extract_prompt=None):\n",
        "  for search_result in search_response.search_results:\n",
        "      print(f'Video ID: {search_result.video_id}')\n",
        "      print(f'Title: {search_result.title}')\n",
        "      youtube_video = YouTubeVideo(search_result.video_id)\n",
        "      display(youtube_video)\n",
        "\n",
        "      if(extract_prompt is not None):\n",
        "        transcript = get_transcript(search_result.video_id)\n",
        "        extracted_text, _, _ = get_ai_extract(extract_prompt, transcript)\n",
        "        print(extracted_text)\n",
        "\n",
        "      print()\n",
        "\n",
        "# Get transcript from YouTube video\n",
        "# Reference: https://github.com/jdepoix/youtube-transcript-api\n",
        "def get_transcript(video_id, languages=['en','en-US','en-GB']):\n",
        "    transcript = YouTubeTranscriptApi.get_transcript(video_id, languages=languages)\n",
        "    transcript = TextFormatter().format_transcript(transcript)\n",
        "\n",
        "    # print(transcript)\n",
        "    return transcript\n",
        "\n",
        "# Extract information from text based on prompt instructions\n",
        "def get_ai_extract(prompt, text):\n",
        "    response = genai_model.generate_content(prompt + text, stream=False)\n",
        "    return response.text, response.prompt_feedback, response.candidates"
      ],
      "metadata": {
        "id": "mhSjmbXe2eOs"
      },
      "execution_count": null,
      "outputs": []
    },
    {
      "cell_type": "code",
      "source": [
        "transcript = get_transcript(\"YYUhtNe8sBg\")\n",
        "\n",
        "recipe, _, _ = get_ai_extract(\"Extract cooking recipe from video transcript: \", transcript)\n",
        "\n",
        "print(recipe)"
      ],
      "metadata": {
        "colab": {
          "base_uri": "https://localhost:8080/",
          "height": 573
        },
        "id": "d2n2Of4WMrEJ",
        "outputId": "dc90c08b-7452-47f5-dfce-c94852aabd0c"
      },
      "execution_count": null,
      "outputs": [
        {
          "output_type": "stream",
          "name": "stdout",
          "text": [
            "**Ingredients:**\n",
            "\n",
            "- 2 slices of fluffy bread\n",
            "- Cheese\n",
            "- Sandwich ham\n",
            "- Cheese (again)\n",
            "- 1 tbsp mayonnaise (or 12g butter)\n",
            "- 2 eggs\n",
            "- Salt and pepper\n",
            "- 100g mozzarella cheese\n",
            "- Minced garlic (2/3 tsp)\n",
            "- Honey (1 tbsp)\n",
            "- Other type of shredded cheese (optional)\n",
            "- Parsley (for garnish)\n",
            "\n",
            "**Instructions:**\n",
            "\n",
            "1. Press the bread with a cup to flatten it.\n",
            "2. Apply mayonnaise (or butter) on one side of each slice of bread.\n",
            "3. Place cheese, ham, and cheese on one slice of bread.\n",
            "4. Top with the other slice of bread, mayonnaise (or butter) side down.\n",
            "5. Crack the eggs into the cup you used to press the bread.\n",
            "6. Add salt, pepper, and garlic to the eggs.\n",
            "7. Pour the eggs into the center of the sandwich.\n",
            "8. Surround the egg with mozzarella cheese.\n",
            "9. Make holes in the yolk of the egg.\n",
            "10. Top with honey (if using the mayonnaise version).\n",
            "11. Preheat the oven to 180°C (355°F).\n",
            "12. Bake the sandwich for 15 minutes.\n",
            "13. If the egg is undercooked, leave it in the oven for a few more minutes at a lower temperature (145-160°C).\n",
            "14. Sprinkle with parsley.\n",
            "15. Cut the sandwich in half and serve.\n"
          ]
        }
      ]
    },
    {
      "cell_type": "markdown",
      "source": [
        "# Search Response / Results Classes\n",
        "Classes to extract data from JSON objects."
      ],
      "metadata": {
        "id": "XQwPPi4gCz24"
      }
    },
    {
      "cell_type": "code",
      "source": [
        "'''\n",
        "Search Response JSON\n",
        "https://developers.google.com/youtube/v3/docs/videos/list#response\n",
        "{\n",
        "    \"kind\": \"youtube#searchListResponse\",\n",
        "    \"etag\": etag,\n",
        "    \"nextPageToken\": string,\n",
        "    \"prevPageToken\": string,\n",
        "    \"regionCode\": string,\n",
        "    \"pageInfo\": {\n",
        "        \"totalResults\": integer,\n",
        "        \"resultsPerPage\": integer\n",
        "    },\n",
        "    \"items\": [\n",
        "        search Resource\n",
        "    ]\n",
        "}\n",
        "'''\n",
        "class Search_Response:\n",
        "    def __init__(self, search_response) -> None:\n",
        "        self.prev_page_token = search_response.get('prevPageToken')\n",
        "        self.next_page_token = search_response.get('nextPageToken')\n",
        "\n",
        "        # items element contain list of videos\n",
        "        items = search_response.get('items')\n",
        "\n",
        "        self.search_results = []\n",
        "        for item in items:\n",
        "            search_result = Search_Result(item)\n",
        "            self.search_results.append(search_result)\n",
        "\n",
        "'''\n",
        "Search Results JSON\n",
        "https://developers.google.com/youtube/v3/docs/search#resource\n",
        "{\n",
        "    \"kind\": \"youtube#searchResult\",\n",
        "    \"etag\": etag,\n",
        "    \"id\": {\n",
        "        \"kind\": string,\n",
        "        \"videoId\": string,\n",
        "        \"channelId\": string,\n",
        "        \"playlistId\": string\n",
        "    },\n",
        "    \"snippet\": {\n",
        "        \"publishedAt\": datetime,\n",
        "        \"channelId\": string,\n",
        "        \"title\": string,\n",
        "        \"description\": string,\n",
        "        \"thumbnails\": {\n",
        "          (key): {\n",
        "              \"url\": string,\n",
        "              \"width\": unsigned integer,\n",
        "              \"height\": unsigned integer\n",
        "          }\n",
        "        },\n",
        "        \"channelTitle\": string,\n",
        "        \"liveBroadcastContent\": string\n",
        "    }\n",
        "}\n",
        "'''\n",
        "class Search_Result:\n",
        "    def __init__(self, search_result) -> None:\n",
        "        self.video_id=     search_result['id']['videoId']\n",
        "        self.title=        search_result['snippet']['title']\n",
        "        self.description=  search_result['snippet']['description']\n",
        "        self.thumbnails=   search_result['snippet']['thumbnails']['default']['url']\n"
      ],
      "metadata": {
        "id": "Rz27A5_V49-s"
      },
      "execution_count": null,
      "outputs": []
    },
    {
      "cell_type": "markdown",
      "source": [
        "# Search YouTube and Display Results"
      ],
      "metadata": {
        "id": "rYYhc64A-Nh0"
      }
    },
    {
      "cell_type": "code",
      "source": [
        "# Search YouTube and display results\n",
        "search_response = search_yt('egg recipes', max_results=2)\n",
        "display_yt_results(search_response, 'Extract cooking recipe from video transcript: ')"
      ],
      "metadata": {
        "id": "f3fPSONM9G9j",
        "colab": {
          "base_uri": "https://localhost:8080/",
          "height": 1000
        },
        "outputId": "107e80b2-7f1e-4f6a-996e-3d6192162ee6"
      },
      "execution_count": null,
      "outputs": [
        {
          "output_type": "stream",
          "name": "stdout",
          "text": [
            "Video ID: 3s7opUfsin8\n",
            "Title: 1 Tomato with 3 eggs! Quick breakfast in 5 minutes. Super easy and delicious omelet recipe\n"
          ]
        },
        {
          "output_type": "display_data",
          "data": {
            "text/plain": [
              "<IPython.lib.display.YouTubeVideo at 0x7f3aa23cc6a0>"
            ],
            "text/html": [
              "\n",
              "        <iframe\n",
              "            width=\"400\"\n",
              "            height=\"300\"\n",
              "            src=\"https://www.youtube.com/embed/3s7opUfsin8\"\n",
              "            frameborder=\"0\"\n",
              "            allowfullscreen\n",
              "            \n",
              "        ></iframe>\n",
              "        "
            ],
            "image/jpeg": "[encoded data removed]"
          },
          "metadata": {}
        },
        {
          "output_type": "stream",
          "name": "stdout",
          "text": [
            "Omelet Recipe:\n",
            "\n",
            "Ingredients:\n",
            "\n",
            "- 3 Eggs\n",
            "- Salt\n",
            "- Black Pepper\n",
            "- Crushed Red Pepper\n",
            "- 100g Green Onion (Chopped)\n",
            "- 1 Tbsp Unsalted Butter\n",
            "- 1 Tomato (Sliced)\n",
            "- Mozzarella Cheese\n",
            "\n",
            "Instructions:\n",
            "\n",
            "1. In a bowl, mix together the eggs, salt, black pepper, and crushed red pepper.\n",
            "2. Add the chopped green onion to the egg mixture and mix well.\n",
            "3. Heat a pan over medium-low heat and add the unsalted butter.\n",
            "4. Place the sliced tomato slices in the pan.\n",
            "5. Pour the egg mixture over the tomato slices.\n",
            "6. Sprinkle mozzarella cheese on top of the egg mixture.\n",
            "7. Fry the omelet for 3-5 minutes until cooked through.\n",
            "8. Serve immediately.\n",
            "\n",
            "Enjoy your delicious omelet for breakfast!\n",
            "\n",
            "Video ID: 9-ODDKHRVkA\n",
            "Title: The Best Scrambled Eggs You&#39;ll Ever Make (Restaurant-Quality) | Epicurious 101\n"
          ]
        },
        {
          "output_type": "display_data",
          "data": {
            "text/plain": [
              "<IPython.lib.display.YouTubeVideo at 0x7f3aa14276a0>"
            ],
            "text/html": [
              "\n",
              "        <iframe\n",
              "            width=\"400\"\n",
              "            height=\"300\"\n",
              "            src=\"https://www.youtube.com/embed/9-ODDKHRVkA\"\n",
              "            frameborder=\"0\"\n",
              "            allowfullscreen\n",
              "            \n",
              "        ></iframe>\n",
              "        "
            ],
            "image/jpeg": "[encoded data removed]"
          },
          "metadata": {}
        },
        {
          "output_type": "stream",
          "name": "stdout",
          "text": [
            "**Ingredients:**\n",
            "\n",
            "* 3 eggs\n",
            "* Unsalted butter\n",
            "* Salt\n",
            "* Black pepper (optional)\n",
            "\n",
            "**Instructions:**\n",
            "\n",
            "1. Remove eggs from the fridge 15-20 minutes before cooking to whisk better and cook quicker.\n",
            "2. Whisk eggs in a bowl with a fork until just combined (no extra air).\n",
            "3. Preheat a non-stick pan over medium heat.\n",
            "4. Add a generous amount of unsalted butter to coat the bottom of the pan.\n",
            "5. Pour eggs into the pan when the butter is not fully melted yet.\n",
            "6. Add salt while the eggs are still liquid so that it melts into them.\n",
            "7. Stir eggs gently to create curds of your desired size.\n",
            "8. Stop cooking when eggs are no longer liquidy but still slightly creamy and shiny.\n",
            "9. Remove eggs from the pan and transfer to a plate.\n",
            "10. (Optional) season with black pepper and spread a small knob of butter over the eggs to add richness.\n",
            "\n",
            "**Tips:**\n",
            "\n",
            "- To make sure the eggs don’t stick to the pan, make sure to preheat the pan before adding the eggs.\n",
            "- For extra creamy scrambled eggs, use more butter.\n",
            "- Don’t overcook the eggs, or they will become dry and rubbery.\n",
            "- Serve scrambled eggs immediately for the best flavor and texture.\n",
            "\n"
          ]
        }
      ]
    },
    {
      "cell_type": "code",
      "source": [
        "# Go to next page\n",
        "search_response = search_yt('egg recipes', max_results=2, page_token=search_response.next_page_token)\n",
        "display_yt_results(search_response, extract_prompt='Extract cooking recipe from video transcript: ')"
      ],
      "metadata": {
        "id": "VlDHun9r9O22"
      },
      "execution_count": null,
      "outputs": []
    }
  ]
}